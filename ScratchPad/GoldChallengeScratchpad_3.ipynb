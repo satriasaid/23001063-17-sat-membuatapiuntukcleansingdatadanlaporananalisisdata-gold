{
 "cells": [
  {
   "cell_type": "code",
   "execution_count": 2,
   "id": "2f3e49f3-2989-4f4b-8e0c-84b37508ad6b",
   "metadata": {},
   "outputs": [],
   "source": [
    "import pandas as pd \n",
    "from sqlite3 import connect\n",
    "import re\n",
    "\n",
    "conn = connect(\"postprocessed_tweet.db\")\n",
    "df = pd.read_sql('SELECT * FROM tweet_post',conn)"
   ]
  },
  {
   "cell_type": "code",
   "execution_count": null,
   "id": "8208eea5-a8af-44b8-81d8-c590ffee9877",
   "metadata": {},
   "outputs": [],
   "source": [
    "df_abusive = pd.read_csv(\"abusive.csv\")\n",
    "df_abusive.head()"
   ]
  },
  {
   "cell_type": "code",
   "execution_count": null,
   "id": "0f286ee8-c682-4bcb-bbae-1ca84d82b456",
   "metadata": {},
   "outputs": [],
   "source": [
    "df_alay = pd.read_csv(\"new_kamusalay.csv\", encoding='latin-1')\n",
    "df_alay.head()"
   ]
  },
  {
   "cell_type": "code",
   "execution_count": 5,
   "id": "b54659cb-e689-4b3f-abd3-dbf667db4e19",
   "metadata": {},
   "outputs": [],
   "source": [
    "alay_list = df_alay['Alay'].to_list()\n",
    "normal_list = df_alay['Normal'].to_list()\n",
    "kamus_alay = [] #list untuk menyimpan kamus alay"
   ]
  },
  {
   "cell_type": "code",
   "execution_count": 6,
   "id": "61107cd0-1b43-427d-9022-5cac3e6f9e1e",
   "metadata": {},
   "outputs": [],
   "source": [
    "abusive = df_abusive['ABUSIVE'].to_list()\n",
    "tweet = df[\"Tweet\"]"
   ]
  },
  {
   "cell_type": "code",
   "execution_count": 7,
   "id": "08f1a910-acf1-4099-9cf9-66ee47f8ec52",
   "metadata": {},
   "outputs": [
    {
     "data": {
      "text/plain": [
       "'kurang berusaha kaya gimna coba gw ada yg ky gw ngorbanin wktu buat pergi lebih pagi pulang lebih malem sinting loe'"
      ]
     },
     "execution_count": 7,
     "metadata": {},
     "output_type": "execute_result"
    }
   ],
   "source": [
    "#step 1: transformasi tiap kata di tweet dari alay menjadi normal\n",
    "\n",
    "tw_alay = df['Tweet']\n",
    "tw_alay_lower = df['Tweet'].str.lower()\n",
    "tw_alay_lower[1560]"
   ]
  },
  {
   "cell_type": "code",
   "execution_count": 11,
   "id": "ace56b0f-bb9b-470a-8912-612c3e5e0959",
   "metadata": {},
   "outputs": [
    {
     "data": {
      "text/plain": [
       "'kurang berusaha kayak bagaimana coba gue ada yang ky gue mengorbankan waktu buat pergi lebih pagi pulang lebih malam sinting kamu'"
      ]
     },
     "execution_count": 11,
     "metadata": {},
     "output_type": "execute_result"
    }
   ],
   "source": [
    "dup_tw_alay_lower = tw_alay_lower\n",
    "for i in range(len(alay_list)):\n",
    "    tw_normal = dup_tw_alay_lower.replace(r'\\b'+ alay_list[i] + r'\\b',normal_list[i],regex=True).astype('str')\n",
    "    i += 1\n",
    "    dup_tw_alay_lower = tw_normal\n",
    "\n",
    "dup_tw_alay_lower[1560]"
   ]
  },
  {
   "cell_type": "code",
   "execution_count": 12,
   "id": "9555e5c7-b23d-4c6d-af55-af7be0ff8641",
   "metadata": {},
   "outputs": [
    {
     "data": {
      "text/plain": [
       "'verifikasi cepat kamu sipit'"
      ]
     },
     "execution_count": 12,
     "metadata": {},
     "output_type": "execute_result"
    }
   ],
   "source": [
    "dup_tw_alay_lower[1559]"
   ]
  },
  {
   "cell_type": "code",
   "execution_count": 17,
   "id": "0b9affc4-5367-4560-9fb9-62ad87a0c657",
   "metadata": {},
   "outputs": [
    {
     "data": {
      "text/plain": [
       "'kok baju hitam disalahkan bisa jadi itu 2 korban yang menyuruh dia buat dorong atau malah orang orang tua di situ yang suruh dorong tidak perlu diejek bangsat juga bocah yang dorong karena belum tentu murni kesalahan dia'"
      ]
     },
     "execution_count": 17,
     "metadata": {},
     "output_type": "execute_result"
    }
   ],
   "source": [
    "dup_tw_alay_lower[1554]"
   ]
  },
  {
   "cell_type": "code",
   "execution_count": 18,
   "id": "0c4a6baa-37f6-48f8-a0d9-536213dcf862",
   "metadata": {},
   "outputs": [
    {
     "data": {
      "text/plain": [
       "'kok baju item disalahin bisa jadi itu 2 korban yg nyuruh dia buat dorong atau malah orang2 tua di situ yg suruh dorong ga perlu dikatain bangsad juga bocah yg dorong karena blm tentu murni kesalahan dia'"
      ]
     },
     "execution_count": 18,
     "metadata": {},
     "output_type": "execute_result"
    }
   ],
   "source": [
    "tw_alay_lower[1554]"
   ]
  },
  {
   "cell_type": "code",
   "execution_count": null,
   "id": "06514c6e-493a-48eb-befd-2da70d4f004d",
   "metadata": {},
   "outputs": [],
   "source": []
  }
 ],
 "metadata": {
  "kernelspec": {
   "display_name": "Python 3 (ipykernel)",
   "language": "python",
   "name": "python3"
  },
  "language_info": {
   "codemirror_mode": {
    "name": "ipython",
    "version": 3
   },
   "file_extension": ".py",
   "mimetype": "text/x-python",
   "name": "python",
   "nbconvert_exporter": "python",
   "pygments_lexer": "ipython3",
   "version": "3.12.0"
  }
 },
 "nbformat": 4,
 "nbformat_minor": 5
}
