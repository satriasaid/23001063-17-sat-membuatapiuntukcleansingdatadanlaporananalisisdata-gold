{
 "cells": [
  {
   "cell_type": "code",
   "execution_count": 129,
   "id": "2f3e49f3-2989-4f4b-8e0c-84b37508ad6b",
   "metadata": {},
   "outputs": [],
   "source": [
    "import pandas as pd \n",
    "from sqlite3 import connect\n",
    "import re\n",
    "\n",
    "conn = connect(\"postprocessed_tweet.db\")\n",
    "df = pd.read_sql('SELECT * FROM tweet_post',conn)"
   ]
  },
  {
   "cell_type": "code",
   "execution_count": null,
   "id": "8208eea5-a8af-44b8-81d8-c590ffee9877",
   "metadata": {},
   "outputs": [],
   "source": [
    "df_abusive = pd.read_csv(\"abusive.csv\")\n",
    "df_abusive.head()"
   ]
  },
  {
   "cell_type": "code",
   "execution_count": null,
   "id": "0f286ee8-c682-4bcb-bbae-1ca84d82b456",
   "metadata": {},
   "outputs": [],
   "source": [
    "df_alay = pd.read_csv(\"new_kamusalay.csv\", encoding='latin-1')\n",
    "df_alay.head()"
   ]
  },
  {
   "cell_type": "code",
   "execution_count": 132,
   "id": "b54659cb-e689-4b3f-abd3-dbf667db4e19",
   "metadata": {},
   "outputs": [],
   "source": [
    "alay_list = df_alay['Alay'].to_list()\n",
    "normal_list = df_alay['Normal'].to_list()\n",
    "kamus_alay = [] #list untuk menyimpan kamus alay"
   ]
  },
  {
   "cell_type": "code",
   "execution_count": 133,
   "id": "61107cd0-1b43-427d-9022-5cac3e6f9e1e",
   "metadata": {},
   "outputs": [],
   "source": [
    "abusive = df_abusive['ABUSIVE'].to_list()\n",
    "tweet = df[\"Tweet\"]"
   ]
  },
  {
   "cell_type": "code",
   "execution_count": 184,
   "id": "08f1a910-acf1-4099-9cf9-66ee47f8ec52",
   "metadata": {},
   "outputs": [
    {
     "data": {
      "text/plain": [
       "'kurang berusaha kaya gimna coba gw ada yg ky gw ngorbanin wktu buat pergi lebih pagi pulang lebih malem sinting loe'"
      ]
     },
     "execution_count": 184,
     "metadata": {},
     "output_type": "execute_result"
    }
   ],
   "source": [
    "#step 1: transformasi tiap kata di tweet dari alay menjadi normal\n",
    "\n",
    "tw_alay = df['Tweet']\n",
    "tw_alay_lower = df['Tweet'].str.lower()\n",
    "tw_alay_lower[1560]"
   ]
  },
  {
   "cell_type": "code",
   "execution_count": 178,
   "id": "ace56b0f-bb9b-470a-8912-612c3e5e0959",
   "metadata": {},
   "outputs": [
    {
     "data": {
      "text/plain": [
       "'di saat semua cowok berusaha melacak perhatian gue kamu lantas remehkan perhatian yang gue kasih khusus ke kamu basic kamu cowok bego'"
      ]
     },
     "execution_count": 178,
     "metadata": {},
     "output_type": "execute_result"
    }
   ],
   "source": [
    "dup_tw_alay_lower = tw_alay_lower\n",
    "for i in range(len(alay_list)):\n",
    "    tw_normal = dup_tw_alay_lower.replace(r'\\b'+ alay_list[i] + r'\\b',normal_list[i],regex=True).astype('str')\n",
    "    i += 1\n",
    "    dup_tw_alay_lower = tw_normal\n",
    "    \n",
    "tw_normal[0]"
   ]
  },
  {
   "cell_type": "code",
   "execution_count": null,
   "id": "98c3637a-b7d0-41c9-a34c-31fb19b1dbed",
   "metadata": {},
   "outputs": [],
   "source": []
  }
 ],
 "metadata": {
  "kernelspec": {
   "display_name": "Python 3 (ipykernel)",
   "language": "python",
   "name": "python3"
  },
  "language_info": {
   "codemirror_mode": {
    "name": "ipython",
    "version": 3
   },
   "file_extension": ".py",
   "mimetype": "text/x-python",
   "name": "python",
   "nbconvert_exporter": "python",
   "pygments_lexer": "ipython3",
   "version": "3.12.0"
  }
 },
 "nbformat": 4,
 "nbformat_minor": 5
}
