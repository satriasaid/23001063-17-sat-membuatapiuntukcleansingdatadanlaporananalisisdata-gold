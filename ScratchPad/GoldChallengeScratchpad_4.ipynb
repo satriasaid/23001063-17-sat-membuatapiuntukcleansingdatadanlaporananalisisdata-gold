{
 "cells": [
  {
   "cell_type": "code",
   "execution_count": 93,
   "id": "533a241f-aaff-4a65-b381-16a3d1f29944",
   "metadata": {},
   "outputs": [],
   "source": [
    "import pandas as pd \n",
    "from sqlite3 import connect\n",
    "import re\n",
    "\n",
    "conn = connect(\"postprocessed_tweet.db\")\n",
    "df = pd.read_sql('SELECT * FROM tweet_post',conn)"
   ]
  },
  {
   "cell_type": "code",
   "execution_count": 94,
   "id": "7d8cfac2-1f05-4a05-9fbe-12dba573f2da",
   "metadata": {},
   "outputs": [],
   "source": [
    "df_abusive = pd.read_csv(\"abusive.csv\")\n",
    "df_alay = pd.read_csv(\"new_kamusalay.csv\", encoding='latin-1')\n",
    "alay_list = df_alay['Alay'].to_list()\n",
    "normal_list = df_alay['Normal'].to_list()\n",
    "abusive = df_abusive['ABUSIVE'].to_list()\n",
    "tweet = df[\"Tweet\"]"
   ]
  },
  {
   "cell_type": "code",
   "execution_count": 218,
   "id": "32a06166-d832-44c5-8e84-941bc79db441",
   "metadata": {},
   "outputs": [],
   "source": [
    "tw_alay = df['Tweet']\n",
    "tw_alay_lower = df['Tweet'].str.lower()\n",
    "df_tw_alay_lower = pd.DataFrame(tw_alay_lower)"
   ]
  },
  {
   "cell_type": "code",
   "execution_count": 180,
   "id": "79387059-eea1-464f-8d0f-4197a138ceed",
   "metadata": {},
   "outputs": [
    {
     "data": {
      "text/plain": [
       "'kurang berusaha kaya gimna coba gw ada yg ky gw ngorbanin wktu buat pergi lebih pagi pulang lebih malem sinting loe'"
      ]
     },
     "execution_count": 180,
     "metadata": {},
     "output_type": "execute_result"
    }
   ],
   "source": [
    "tw_alay_lower[1560]"
   ]
  },
  {
   "cell_type": "raw",
   "id": "e719d94c-c056-4936-a4ac-e2eb3973472f",
   "metadata": {},
   "source": [
    "store = []\n",
    "li_store = []\n",
    "tester = ['gw','loe','kaya','ky']\n",
    "for i in range(len(tester)):\n",
    "    w_finder = re.findall(r'\\b' + tester[i] + r'\\b',tw_alay_lower[1560])\n",
    "    temp = w_finder\n",
    "    store.extend(temp)\n",
    "    i += 1\n",
    "li_store.append(len(store))\n",
    "\n",
    "li_store"
   ]
  },
  {
   "cell_type": "code",
   "execution_count": 226,
   "id": "89d1b6f5-1048-48fc-8c0a-aeb6d8d9b053",
   "metadata": {},
   "outputs": [
    {
     "name": "stdout",
     "output_type": "stream",
     "text": [
      "['gw', 'gw', 'loe', 'loe', 'loe']\n"
     ]
    }
   ],
   "source": [
    "store = []\n",
    "li_store = []\n",
    "\n",
    "for i in range(len(tw_alay_lower)):\n",
    "    for j in range(len(tester)):\n",
    "        w_finder = re.findall(r'\\b' + tester[j] + r'\\b',tw_alay_lower[i])\n",
    "        temp = w_finder\n",
    "        store.extend(temp)\n",
    "        j += 1\n",
    "    li_store.append(store)\n",
    "    store = []\n",
    "    i += 1\n",
    "\n",
    "print(li_store[15])"
   ]
  },
  {
   "cell_type": "code",
   "execution_count": 227,
   "id": "bb396f18-0ea7-49c3-87b3-cf2a7071fff5",
   "metadata": {},
   "outputs": [
    {
     "data": {
      "text/plain": [
       "'lawan bicara gw gak intelek kyk loe yg otak gak punya ttg kencing onta gw mengakui hadis nabi dan itu sahih kafir kyk loe pasti menolak makanya loe ahlunnar'"
      ]
     },
     "execution_count": 227,
     "metadata": {},
     "output_type": "execute_result"
    }
   ],
   "source": [
    "tw_alay_lower[15]"
   ]
  },
  {
   "cell_type": "code",
   "execution_count": null,
   "id": "bc8d25d0-bd21-4eba-a66b-90cb507d10e4",
   "metadata": {},
   "outputs": [],
   "source": []
  }
 ],
 "metadata": {
  "kernelspec": {
   "display_name": "Python 3 (ipykernel)",
   "language": "python",
   "name": "python3"
  },
  "language_info": {
   "codemirror_mode": {
    "name": "ipython",
    "version": 3
   },
   "file_extension": ".py",
   "mimetype": "text/x-python",
   "name": "python",
   "nbconvert_exporter": "python",
   "pygments_lexer": "ipython3",
   "version": "3.12.0"
  }
 },
 "nbformat": 4,
 "nbformat_minor": 5
}
