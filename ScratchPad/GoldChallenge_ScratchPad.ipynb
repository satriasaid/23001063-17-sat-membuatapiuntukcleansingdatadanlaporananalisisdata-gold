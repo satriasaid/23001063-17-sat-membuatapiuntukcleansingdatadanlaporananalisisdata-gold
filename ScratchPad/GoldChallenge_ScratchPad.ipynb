{
 "cells": [
  {
   "cell_type": "markdown",
   "id": "0658b90e-851a-419e-befe-ac2bf6df40bb",
   "metadata": {},
   "source": [
    "# This is Gold Challenge Scratch Pad"
   ]
  },
  {
   "cell_type": "markdown",
   "id": "de168a52-fa89-409a-9cea-0d5b870fd8e8",
   "metadata": {},
   "source": [
    "Hello,  \n",
    "This is the scratch pad for Binar Data Science Scratch Pad."
   ]
  },
  {
   "cell_type": "code",
   "execution_count": 73,
   "id": "1fcea0c7-4164-414b-8055-9d2d24527314",
   "metadata": {
    "scrolled": true
   },
   "outputs": [
    {
     "data": {
      "text/plain": [
       "Tweet            object\n",
       "HS                int64\n",
       "Abusive           int64\n",
       "HS_Individual     int64\n",
       "HS_Group          int64\n",
       "HS_Religion       int64\n",
       "HS_Race           int64\n",
       "HS_Physical       int64\n",
       "HS_Gender         int64\n",
       "HS_Other          int64\n",
       "HS_Weak           int64\n",
       "HS_Moderate       int64\n",
       "HS_Strong         int64\n",
       "dtype: object"
      ]
     },
     "execution_count": 73,
     "metadata": {},
     "output_type": "execute_result"
    }
   ],
   "source": [
    "import pandas as pd\n",
    "\n",
    "fileUpload = \"data.csv\"\n",
    "data = pd.read_csv(fileUpload, encoding='latin-1')\n",
    "dataType = data.dtypes\n",
    "dataType"
   ]
  },
  {
   "cell_type": "markdown",
   "id": "1ee6f714-579a-4650-8578-1b6a628e3a74",
   "metadata": {},
   "source": [
    "#### <u> Percobaan untuk menghitung jumlah kolom yang perlu dilakukan cleaning </u>"
   ]
  },
  {
   "cell_type": "code",
   "execution_count": 75,
   "id": "e4824b54-ae42-4155-96a0-9743c119c901",
   "metadata": {},
   "outputs": [
    {
     "data": {
      "text/plain": [
       "1"
      ]
     },
     "execution_count": 75,
     "metadata": {},
     "output_type": "execute_result"
    }
   ],
   "source": [
    "def cleanableCount(fileData):\n",
    "    dataType = fileData.dtypes.to_list()\n",
    "    typeCount = 0\n",
    "    for type in dataType:\n",
    "        if type == \"object\":\n",
    "            typeCount += 1\n",
    "    return typeCount\n",
    "\n",
    "cleanableCount(data)"
   ]
  },
  {
   "cell_type": "code",
   "execution_count": 4,
   "id": "82c8fe97-49f7-48d7-9d22-37eef5eac27b",
   "metadata": {},
   "outputs": [
    {
     "name": "stdout",
     "output_type": "stream",
     "text": [
      "['Tweet', 'HS', 'Abusive', 'HS_Individual', 'HS_Group', 'HS_Religion', 'HS_Race', 'HS_Physical', 'HS_Gender', 'HS_Other', 'HS_Weak', 'HS_Moderate', 'HS_Strong']\n"
     ]
    }
   ],
   "source": [
    "print(data.columns.to_list())"
   ]
  },
  {
   "cell_type": "markdown",
   "id": "0f16ee9a-662a-4f6c-b922-4458faf57f1c",
   "metadata": {},
   "source": [
    "#### <u> Percobaan untuk locate column yang perlu dilakukan cleaning </u>"
   ]
  },
  {
   "cell_type": "code",
   "execution_count": 5,
   "id": "eaee6d7f-b9c4-4cf0-a435-2a160af19f43",
   "metadata": {},
   "outputs": [
    {
     "data": {
      "text/plain": [
       "(['Tweet',\n",
       "  'HS',\n",
       "  'Abusive',\n",
       "  'HS_Individual',\n",
       "  'HS_Group',\n",
       "  'HS_Religion',\n",
       "  'HS_Race',\n",
       "  'HS_Physical',\n",
       "  'HS_Gender',\n",
       "  'HS_Other',\n",
       "  'HS_Weak',\n",
       "  'HS_Moderate',\n",
       "  'HS_Strong'],\n",
       " [dtype('O'),\n",
       "  dtype('int64'),\n",
       "  dtype('int64'),\n",
       "  dtype('int64'),\n",
       "  dtype('int64'),\n",
       "  dtype('int64'),\n",
       "  dtype('int64'),\n",
       "  dtype('int64'),\n",
       "  dtype('int64'),\n",
       "  dtype('int64'),\n",
       "  dtype('int64'),\n",
       "  dtype('int64'),\n",
       "  dtype('int64')])"
      ]
     },
     "execution_count": 5,
     "metadata": {},
     "output_type": "execute_result"
    }
   ],
   "source": [
    "def colIndexLocate(fileData):\n",
    "    column_list = fileData.columns.to_list()\n",
    "    datatype_list = []\n",
    "\n",
    "    for type in dataType:\n",
    "       datatype_list.append(type)\n",
    "    \n",
    "    return column_list, datatype_list\n",
    "\n",
    "colIndexLocate(data)"
   ]
  },
  {
   "cell_type": "markdown",
   "id": "3db2f49a-87fa-4312-80b6-94c2c95b289f",
   "metadata": {},
   "source": [
    "#### <u> Percobaan untuk membuat database dengan sqlite3 </u>"
   ]
  },
  {
   "cell_type": "code",
   "execution_count": 89,
   "id": "860ddaf9-282c-4dc9-8d58-7067d0aa9e3c",
   "metadata": {},
   "outputs": [
    {
     "name": "stdout",
     "output_type": "stream",
     "text": [
      "Opened database successfully\n"
     ]
    }
   ],
   "source": [
    "import sqlite3\n",
    "\n",
    "conn = sqlite3.connect('cleanTw.db')\n",
    "print(\"Opened database successfully\")"
   ]
  },
  {
   "cell_type": "code",
   "execution_count": null,
   "id": "5cb894de-6be0-406d-9909-e91713affe39",
   "metadata": {},
   "outputs": [],
   "source": [
    "import re\n",
    "i= 0\n",
    "df_type = data.dtypes.to_list()\n",
    "df_columns = data.columns.to_list()\n",
    "\n",
    "def file_data_cleaning():\n",
    "    for i in range(len(df_type)):\n",
    "        if df_type[i] == \"object\":\n",
    "            tobecleaned = data[df_columns[i]]\n",
    "            cleanedTweet = tobecleaned.replace(r'[^0-9A-Za-z]',' ',regex=True).astype('str')\n",
    "            cleanTwList = cleanedTweet.to_list()\n",
    "            cleanTwList = [x.strip(' ') for x in cleanTwList] #menghilangkan spasi yang tidak penting\n",
    "            cleanTwList = [re.sub(r'\\s+',' ',x) for x in cleanTwList] #menghilangkan spasi yang berlebihan\n",
    "            i += 1\n",
    "        else:\n",
    "            pass\n",
    "    return cleanTwList\n",
    "\n",
    "cleanTweet = file_data_cleaning()\n",
    "print(cleanTweet)"
   ]
  },
  {
   "cell_type": "code",
   "execution_count": null,
   "id": "7ecc03ce-fa84-474a-adc9-6fb73ab778e2",
   "metadata": {},
   "outputs": [],
   "source": [
    "data_clean = data\n",
    "data_clean"
   ]
  },
  {
   "cell_type": "code",
   "execution_count": 92,
   "id": "40974c8b-a7dc-4f8a-aad0-66464ada585c",
   "metadata": {},
   "outputs": [],
   "source": [
    "data_clean['Tweet'] = cleanTweet"
   ]
  },
  {
   "cell_type": "code",
   "execution_count": 93,
   "id": "0bec1fd5-9601-4d30-91d7-71a51e376415",
   "metadata": {},
   "outputs": [
    {
     "data": {
      "text/plain": [
       "13169"
      ]
     },
     "execution_count": 93,
     "metadata": {},
     "output_type": "execute_result"
    }
   ],
   "source": [
    "    from sqlalchemy import create_engine\n",
    "engine = create_engine('sqlite:///cleanTw.db', echo=False)\n",
    "\n",
    "data_clean.to_sql('clean_tweet',con=engine, if_exists='append')"
   ]
  },
  {
   "cell_type": "code",
   "execution_count": 98,
   "id": "ef4bafc5-77e9-455b-ba1e-1cf32b0db182",
   "metadata": {},
   "outputs": [],
   "source": [
    "con = sqlite3.connect(\"cleanTw.db\")\n",
    "clnTwSQLite = pd.read_sql_query(\"SELECT * from clean_tweet\",con, index_col=['index'])"
   ]
  },
  {
   "cell_type": "code",
   "execution_count": 99,
   "id": "535cacbf-2668-4f86-9867-efa8d403e4bc",
   "metadata": {},
   "outputs": [
    {
     "name": "stdout",
     "output_type": "stream",
     "text": [
      "                                                   Tweet  HS  Abusive  \\\n",
      "index                                                                   \n",
      "0      disaat semua cowok berusaha melacak perhatian ...   1        1   \n",
      "1      RT USER USER siapa yang telat ngasih tau elu e...   0        1   \n",
      "2      41 Kadang aku berfikir kenapa aku tetap percay...   0        0   \n",
      "3      USER USER AKU ITU AKU n nKU TAU MATAMU SIPIT T...   0        0   \n",
      "4      USER USER Kaum cebong kapir udah keliatan dong...   1        1   \n",
      "...                                                  ...  ..      ...   \n",
      "13164  USER jangan asal ngomong ndasmu congor lu yg s...   1        1   \n",
      "13165                        USER Kasur mana enak kunyuk   0        1   \n",
      "13166  USER Hati hati bisu g n nlagi bosan huft xf0 x...   0        0   \n",
      "13167  USER USER USER USER Bom yang real mudah terdet...   0        0   \n",
      "13168  USER Mana situ ngasih itu cuma foto ya kutil onta   1        1   \n",
      "\n",
      "       HS_Individual  HS_Group  HS_Religion  HS_Race  HS_Physical  HS_Gender  \\\n",
      "index                                                                          \n",
      "0                  1         0            0        0            0          0   \n",
      "1                  0         0            0        0            0          0   \n",
      "2                  0         0            0        0            0          0   \n",
      "3                  0         0            0        0            0          0   \n",
      "4                  0         1            1        0            0          0   \n",
      "...              ...       ...          ...      ...          ...        ...   \n",
      "13164              1         0            0        0            1          0   \n",
      "13165              0         0            0        0            0          0   \n",
      "13166              0         0            0        0            0          0   \n",
      "13167              0         0            0        0            0          0   \n",
      "13168              1         0            0        0            0          0   \n",
      "\n",
      "       HS_Other  HS_Weak  HS_Moderate  HS_Strong  \n",
      "index                                             \n",
      "0             1        1            0          0  \n",
      "1             0        0            0          0  \n",
      "2             0        0            0          0  \n",
      "3             0        0            0          0  \n",
      "4             0        0            1          0  \n",
      "...         ...      ...          ...        ...  \n",
      "13164         0        1            0          0  \n",
      "13165         0        0            0          0  \n",
      "13166         0        0            0          0  \n",
      "13167         0        0            0          0  \n",
      "13168         1        1            0          0  \n",
      "\n",
      "[13169 rows x 13 columns]\n"
     ]
    }
   ],
   "source": [
    "print(clnTwSQLite)"
   ]
  },
  {
   "cell_type": "code",
   "execution_count": 109,
   "id": "2175674c-4f16-4436-a479-633318c17e6d",
   "metadata": {},
   "outputs": [
    {
     "data": {
      "text/html": [
       "<div>\n",
       "<style scoped>\n",
       "    .dataframe tbody tr th:only-of-type {\n",
       "        vertical-align: middle;\n",
       "    }\n",
       "\n",
       "    .dataframe tbody tr th {\n",
       "        vertical-align: top;\n",
       "    }\n",
       "\n",
       "    .dataframe thead th {\n",
       "        text-align: right;\n",
       "    }\n",
       "</style>\n",
       "<table border=\"1\" class=\"dataframe\">\n",
       "  <thead>\n",
       "    <tr style=\"text-align: right;\">\n",
       "      <th></th>\n",
       "      <th>Tweet</th>\n",
       "      <th>HS</th>\n",
       "      <th>Abusive</th>\n",
       "      <th>HS_Individual</th>\n",
       "      <th>HS_Group</th>\n",
       "      <th>HS_Religion</th>\n",
       "      <th>HS_Race</th>\n",
       "      <th>HS_Physical</th>\n",
       "      <th>HS_Gender</th>\n",
       "      <th>HS_Other</th>\n",
       "      <th>HS_Weak</th>\n",
       "      <th>HS_Moderate</th>\n",
       "      <th>HS_Strong</th>\n",
       "    </tr>\n",
       "    <tr>\n",
       "      <th>index</th>\n",
       "      <th></th>\n",
       "      <th></th>\n",
       "      <th></th>\n",
       "      <th></th>\n",
       "      <th></th>\n",
       "      <th></th>\n",
       "      <th></th>\n",
       "      <th></th>\n",
       "      <th></th>\n",
       "      <th></th>\n",
       "      <th></th>\n",
       "      <th></th>\n",
       "      <th></th>\n",
       "    </tr>\n",
       "  </thead>\n",
       "  <tbody>\n",
       "    <tr>\n",
       "      <th>13164</th>\n",
       "      <td>USER jangan asal ngomong ndasmu congor lu yg s...</td>\n",
       "      <td>1</td>\n",
       "      <td>1</td>\n",
       "      <td>1</td>\n",
       "      <td>0</td>\n",
       "      <td>0</td>\n",
       "      <td>0</td>\n",
       "      <td>1</td>\n",
       "      <td>0</td>\n",
       "      <td>0</td>\n",
       "      <td>1</td>\n",
       "      <td>0</td>\n",
       "      <td>0</td>\n",
       "    </tr>\n",
       "    <tr>\n",
       "      <th>13165</th>\n",
       "      <td>USER Kasur mana enak kunyuk</td>\n",
       "      <td>0</td>\n",
       "      <td>1</td>\n",
       "      <td>0</td>\n",
       "      <td>0</td>\n",
       "      <td>0</td>\n",
       "      <td>0</td>\n",
       "      <td>0</td>\n",
       "      <td>0</td>\n",
       "      <td>0</td>\n",
       "      <td>0</td>\n",
       "      <td>0</td>\n",
       "      <td>0</td>\n",
       "    </tr>\n",
       "  </tbody>\n",
       "</table>\n",
       "</div>"
      ],
      "text/plain": [
       "                                                   Tweet  HS  Abusive  \\\n",
       "index                                                                   \n",
       "13164  USER jangan asal ngomong ndasmu congor lu yg s...   1        1   \n",
       "13165                        USER Kasur mana enak kunyuk   0        1   \n",
       "\n",
       "       HS_Individual  HS_Group  HS_Religion  HS_Race  HS_Physical  HS_Gender  \\\n",
       "index                                                                          \n",
       "13164              1         0            0        0            1          0   \n",
       "13165              0         0            0        0            0          0   \n",
       "\n",
       "       HS_Other  HS_Weak  HS_Moderate  HS_Strong  \n",
       "index                                             \n",
       "13164         0        1            0          0  \n",
       "13165         0        0            0          0  "
      ]
     },
     "execution_count": 109,
     "metadata": {},
     "output_type": "execute_result"
    }
   ],
   "source": [
    "clnTwSQLite.loc[13164:13165]"
   ]
  },
  {
   "cell_type": "markdown",
   "id": "c5498e22-50c2-4750-af5c-dd7e4d43927d",
   "metadata": {},
   "source": [
    "## Double checking untuk data cleaning yang sudah dilakukan"
   ]
  },
  {
   "cell_type": "code",
   "execution_count": null,
   "id": "b53b2c0e-185f-4b44-9168-209408a67c71",
   "metadata": {},
   "outputs": [],
   "source": [
    "import pandas as pd\n",
    "import sqlite3\n",
    "from sqlite3 import connect\n",
    "\n",
    "conn = sqlite3.connect(\"postprocessed_tweet.db\")\n",
    "data = pd.read_sql(\"SELECT * from tweet_post\", conn)\n",
    "\n",
    "clean_df = pd.DataFrame(data)\n",
    "clean_df.head(5)"
   ]
  },
  {
   "cell_type": "code",
   "execution_count": null,
   "id": "204a229c-7fa3-44f8-9fc9-db744106c6ba",
   "metadata": {},
   "outputs": [],
   "source": [
    "import pandas as pd\n",
    "\n",
    "fileUpload = \"data.csv\"\n",
    "data_csv = pd.read_csv(fileUpload, encoding='latin-1')\n",
    "data_csv.head()"
   ]
  },
  {
   "cell_type": "code",
   "execution_count": null,
   "id": "ebea9b04-5bb7-4dcd-8a44-985275467375",
   "metadata": {},
   "outputs": [],
   "source": [
    "import re\n",
    "tobecleaned = data_csv['Tweet']\n",
    "cleanedTweet = tobecleaned.replace(r'(\\\\x\\S+)','',regex=True).astype('str')\n",
    "cleanedTweet = cleanedTweet.replace(r'((\\s{2}))',' ',regex=True).astype('str')\n",
    "cleanedTweet = cleanedTweet.replace(r'(\\\\n)',' ',regex=True).astype('str')\n",
    "cleanedTweet = cleanedTweet.replace(r'(?:RT\\W+)',' ',regex=True).astype('str')\n",
    "cleanedTweet = cleanedTweet.replace(r'(?:USER\\W+)',' ',regex=True).astype('str')\n",
    "cleanedTweet = cleanedTweet.replace(r'(?:USER)',' ',regex=True).astype('str')\n",
    "cleanedTweet = cleanedTweet.replace(r'(?:https:)\\S+',' ',regex=True).astype('str')\n",
    "cleanedTweet = cleanedTweet.replace(r'(?:http)\\S+',' ',regex=True).astype('str')\n",
    "cleanedTweet = cleanedTweet.replace(r'(?:https)\\S+',' ',regex=True).astype('str')\n",
    "cleanedTweet = cleanedTweet.replace(r'(?:URL)',' ',regex=True).astype('str')\n",
    "cleanedTweet = cleanedTweet.replace(r'[^0-9A-Za-z]',' ',regex=True).astype('str')\n",
    "cleanTwList = cleanedTweet.to_list()\n",
    "cleanTwList = [x.strip(' ') for x in cleanTwList] #menghilangkan spasi yang tidak penting\n",
    "cleanTwList = [re.sub(r'\\s+',' ',x) for x in cleanTwList] #menghilangkan spasi yang berlebihan\n",
    "\n",
    "print(cleanTwList)"
   ]
  },
  {
   "cell_type": "code",
   "execution_count": 303,
   "id": "1872700d-d402-45ea-8ee5-3a0d9b7ee4ea",
   "metadata": {},
   "outputs": [],
   "source": [
    "cleaned_csv = pd.read_csv('data/Cleaned_temp.csv', encoding='latin-1')\n",
    "cleaned_csv['Tweet'] = cleanTwList"
   ]
  },
  {
   "cell_type": "code",
   "execution_count": 304,
   "id": "133cf86d-6736-4260-9fbf-ea5f6f2789b4",
   "metadata": {},
   "outputs": [
    {
     "data": {
      "text/plain": [
       "Tweet            46\n",
       "HS                0\n",
       "Abusive           0\n",
       "HS_Individual     0\n",
       "HS_Group          0\n",
       "HS_Religion       0\n",
       "HS_Race           0\n",
       "HS_Physical       0\n",
       "HS_Gender         0\n",
       "HS_Other          0\n",
       "HS_Weak           0\n",
       "HS_Moderate       0\n",
       "HS_Strong         0\n",
       "dtype: int64"
      ]
     },
     "execution_count": 304,
     "metadata": {},
     "output_type": "execute_result"
    }
   ],
   "source": [
    "data_csv_cleaned.isnull().sum()"
   ]
  },
  {
   "cell_type": "code",
   "execution_count": 305,
   "id": "4cda8612-2590-421c-9cee-ee99931fbe9c",
   "metadata": {},
   "outputs": [],
   "source": [
    "data_csv_cleaned=data_csv_cleaned.dropna()"
   ]
  },
  {
   "cell_type": "code",
   "execution_count": 306,
   "id": "6e576887-6a1a-4160-a1c7-ea8ecf13ae57",
   "metadata": {},
   "outputs": [
    {
     "data": {
      "text/plain": [
       "Tweet            0\n",
       "HS               0\n",
       "Abusive          0\n",
       "HS_Individual    0\n",
       "HS_Group         0\n",
       "HS_Religion      0\n",
       "HS_Race          0\n",
       "HS_Physical      0\n",
       "HS_Gender        0\n",
       "HS_Other         0\n",
       "HS_Weak          0\n",
       "HS_Moderate      0\n",
       "HS_Strong        0\n",
       "dtype: int64"
      ]
     },
     "execution_count": 306,
     "metadata": {},
     "output_type": "execute_result"
    }
   ],
   "source": [
    "data_csv_cleaned.isnull().sum()"
   ]
  },
  {
   "cell_type": "code",
   "execution_count": 308,
   "id": "6afa32ba-5c73-4824-9580-abd1078b31a8",
   "metadata": {},
   "outputs": [
    {
     "data": {
      "text/plain": [
       "229"
      ]
     },
     "execution_count": 308,
     "metadata": {},
     "output_type": "execute_result"
    }
   ],
   "source": [
    "data_csv_cleaned.duplicated().sum()"
   ]
  },
  {
   "cell_type": "code",
   "execution_count": 312,
   "id": "dd684992-c5b7-4eb4-8fdb-88cec685a960",
   "metadata": {},
   "outputs": [],
   "source": [
    "data_csv_cleaned = data_csv_cleaned.drop_duplicates()"
   ]
  },
  {
   "cell_type": "code",
   "execution_count": 314,
   "id": "2b9b1e13-bca9-4efe-a789-e72bd5d519be",
   "metadata": {},
   "outputs": [
    {
     "data": {
      "text/plain": [
       "(12894, 13)"
      ]
     },
     "execution_count": 314,
     "metadata": {},
     "output_type": "execute_result"
    }
   ],
   "source": [
    "data_csv_cleaned.shape"
   ]
  },
  {
   "cell_type": "markdown",
   "id": "bc31eebb-b110-4795-bac3-669701d0ff87",
   "metadata": {},
   "source": []
  }
 ],
 "metadata": {
  "kernelspec": {
   "display_name": "Python 3 (ipykernel)",
   "language": "python",
   "name": "python3"
  },
  "language_info": {
   "codemirror_mode": {
    "name": "ipython",
    "version": 3
   },
   "file_extension": ".py",
   "mimetype": "text/x-python",
   "name": "python",
   "nbconvert_exporter": "python",
   "pygments_lexer": "ipython3",
   "version": "3.12.0"
  }
 },
 "nbformat": 4,
 "nbformat_minor": 5
}
